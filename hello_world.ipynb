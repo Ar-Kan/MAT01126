{
  "nbformat": 4,
  "nbformat_minor": 0,
  "metadata": {
    "colab": {
      "private_outputs": true,
      "provenance": []
    },
    "kernelspec": {
      "name": "python3",
      "display_name": "Python 3"
    },
    "language_info": {
      "name": "python"
    }
  },
  "cells": [
    {
      "cell_type": "code",
      "execution_count": null,
      "metadata": {
        "id": "OUuIkC6ZGAVc"
      },
      "outputs": [],
      "source": [
        "msg = \"Hello, World!\"\n",
        "for n in range(len(msg)):\n",
        "    print(msg[:n+1])"
      ]
    }
  ]
}